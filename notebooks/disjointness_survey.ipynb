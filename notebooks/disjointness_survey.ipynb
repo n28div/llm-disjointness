{
 "cells": [
  {
   "cell_type": "code",
   "execution_count": 14,
   "metadata": {},
   "outputs": [],
   "source": [
    "import json\n",
    "import rdflib\n",
    "from tqdm import tqdm"
   ]
  },
  {
   "cell_type": "code",
   "execution_count": 2,
   "metadata": {},
   "outputs": [],
   "source": [
    "vocabs = json.load(open(\"lov_iris.json\"))"
   ]
  },
  {
   "cell_type": "code",
   "execution_count": 16,
   "metadata": {},
   "outputs": [
    {
     "name": "stderr",
     "output_type": "stream",
     "text": [
      "  6%|▌         | 49/860 [03:26<24:48,  1.84s/it]  https://zeitkunst.org/bibtex/0.2/?xml version=\"1.0\" encoding=\"UTF-8\"? does not look like a valid URI, trying to serialize this will break.\n",
      "?xml-stylesheet href=\"http://zeitkunst.org/bibtex/0.1/owl2w3cxml.xsl\" type=\"text/xsl\"? does not look like a valid URI, trying to serialize this will break.\n",
      "!DOCTYPE rdf:RDF [\n",
      "\t<!ENTITY xsd\t\t\"http://www.w3.org/2001/XMLSchema#\"  does not look like a valid URI, trying to serialize this will break.\n",
      " 15%|█▍        | 127/860 [09:38<06:58,  1.75it/s] http://www.tele.pw.edu.pl/~sims-onto/?xml version=\"1.0\"? does not look like a valid URI, trying to serialize this will break.\n",
      "!DOCTYPE rdf:RDF [\n",
      "    <!ENTITY owl \"http://www.w3.org/2002/07/owl#\"  does not look like a valid URI, trying to serialize this will break.\n",
      "!ENTITY dc \"http://purl.org/dc/elements/1.1/\"  does not look like a valid URI, trying to serialize this will break.\n",
      " 23%|██▎       | 200/860 [11:53<13:49,  1.26s/it]  http://www.linkedmodel.org/schema/?xml version=\"1.0\"? does not look like a valid URI, trying to serialize this will break.\n",
      "rdf:RDF\n",
      "    xmlns:rdf=\"http://www.w3.org/1999/02/22-rdf-syntax-ns#\"\n",
      "    xmlns:dcterms=\"http://purl.org/dc/terms/\"\n",
      "    xmlns:voag=\"http://voag.linkedmodel.org/voag#\"\n",
      "    xmlns:vaem=\"http://www.linkedmodel.org/schema/vaem#\"\n",
      "    xmlns:dtype=\"http://www.linkedmodel.org/schema/dtype#\"\n",
      "    xmlns:owl=\"http://www.w3.org/2002/07/owl#\"\n",
      "    xmlns:rdfs=\"http://www.w3.org/2000/01/rdf-schema#\"\n",
      "    xmlns:xsd=\"http://www.w3.org/2001/XMLSchema#\"\n",
      "  xml:base=\"http://www.linkedmodel.org/schema/dtype\"  does not look like a valid URI, trying to serialize this will break.\n",
      "rdf:Description rdf:about=\"#dateUnion\" does not look like a valid URI, trying to serialize this will break.\n",
      " 25%|██▌       | 219/860 [12:11<09:37,  1.11it/s]"
     ]
    }
   ],
   "source": [
    "disj = {}\n",
    "for bind in tqdm(vocabs[\"results\"][\"bindings\"]):\n",
    "    iri = bind[\"vocabURI\"][\"value\"]\n",
    "    try:\n",
    "        graph = rdflib.Graph().parse(iri)\n",
    "        disj[iri] = len(list(graph.triples((None, rdflib.OWL.disjointWith, None))))\n",
    "    except:\n",
    "        pass\n"
   ]
  }
 ],
 "metadata": {
  "kernelspec": {
   "display_name": "llmdisj",
   "language": "python",
   "name": "python3"
  },
  "language_info": {
   "codemirror_mode": {
    "name": "ipython",
    "version": 3
   },
   "file_extension": ".py",
   "mimetype": "text/x-python",
   "name": "python",
   "nbconvert_exporter": "python",
   "pygments_lexer": "ipython3",
   "version": "3.11.9"
  }
 },
 "nbformat": 4,
 "nbformat_minor": 2
}
