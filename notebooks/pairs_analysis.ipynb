{
 "cells": [
  {
   "cell_type": "code",
   "execution_count": 12,
   "metadata": {},
   "outputs": [],
   "source": [
    "import pandas as pd"
   ]
  },
  {
   "cell_type": "code",
   "execution_count": 13,
   "metadata": {},
   "outputs": [],
   "source": [
    "df = pd.read_csv(\"/home/nicolas/projects/llm-disjointness/pairs.csv\", header=0, names=[\"c1\", \"c2\", \"disjoint\"])\n",
    "df[\"reason\"] = df.disjoint.apply(lambda x: x if pd.isna(x) else eval(x)[1])\n",
    "df[\"disjoint\"] = df.disjoint.apply(lambda x: x if pd.isna(x) else eval(x)[0])"
   ]
  },
  {
   "cell_type": "code",
   "execution_count": 20,
   "metadata": {},
   "outputs": [
    {
     "data": {
      "text/html": [
       "<div>\n",
       "<style scoped>\n",
       "    .dataframe tbody tr th:only-of-type {\n",
       "        vertical-align: middle;\n",
       "    }\n",
       "\n",
       "    .dataframe tbody tr th {\n",
       "        vertical-align: top;\n",
       "    }\n",
       "\n",
       "    .dataframe thead th {\n",
       "        text-align: right;\n",
       "    }\n",
       "</style>\n",
       "<table border=\"1\" class=\"dataframe\">\n",
       "  <thead>\n",
       "    <tr style=\"text-align: right;\">\n",
       "      <th></th>\n",
       "      <th>c1</th>\n",
       "      <th>c2</th>\n",
       "      <th>disjoint</th>\n",
       "      <th>reason</th>\n",
       "    </tr>\n",
       "  </thead>\n",
       "  <tbody>\n",
       "    <tr>\n",
       "      <th>1467</th>\n",
       "      <td>http://dbpedia.org/ontology/NaturalEvent</td>\n",
       "      <td>http://dbpedia.org/ontology/StormSurge</td>\n",
       "      <td>False</td>\n",
       "      <td>common subclasses</td>\n",
       "    </tr>\n",
       "    <tr>\n",
       "      <th>1525</th>\n",
       "      <td>http://dbpedia.org/ontology/NaturalEvent</td>\n",
       "      <td>http://dbpedia.org/ontology/SolarEclipse</td>\n",
       "      <td>False</td>\n",
       "      <td>common subclasses</td>\n",
       "    </tr>\n",
       "    <tr>\n",
       "      <th>5826</th>\n",
       "      <td>http://dbpedia.org/ontology/TimePeriod</td>\n",
       "      <td>http://dbpedia.org/ontology/YearInSpaceflight</td>\n",
       "      <td>False</td>\n",
       "      <td>common subclasses</td>\n",
       "    </tr>\n",
       "    <tr>\n",
       "      <th>5842</th>\n",
       "      <td>http://dbpedia.org/ontology/TimePeriod</td>\n",
       "      <td>http://dbpedia.org/ontology/Year</td>\n",
       "      <td>False</td>\n",
       "      <td>common subclasses</td>\n",
       "    </tr>\n",
       "    <tr>\n",
       "      <th>11742</th>\n",
       "      <td>http://dbpedia.org/ontology/AnatomicalStructure</td>\n",
       "      <td>http://dbpedia.org/ontology/BloodVessel</td>\n",
       "      <td>False</td>\n",
       "      <td>common subclasses</td>\n",
       "    </tr>\n",
       "    <tr>\n",
       "      <th>...</th>\n",
       "      <td>...</td>\n",
       "      <td>...</td>\n",
       "      <td>...</td>\n",
       "      <td>...</td>\n",
       "    </tr>\n",
       "    <tr>\n",
       "      <th>312254</th>\n",
       "      <td>http://dbpedia.org/ontology/MicroRegion</td>\n",
       "      <td>http://dbpedia.org/ontology/PopulatedPlace</td>\n",
       "      <td>False</td>\n",
       "      <td>common subclasses</td>\n",
       "    </tr>\n",
       "    <tr>\n",
       "      <th>312255</th>\n",
       "      <td>http://dbpedia.org/ontology/HistoricalRegion</td>\n",
       "      <td>http://dbpedia.org/ontology/PopulatedPlace</td>\n",
       "      <td>False</td>\n",
       "      <td>common subclasses</td>\n",
       "    </tr>\n",
       "    <tr>\n",
       "      <th>312256</th>\n",
       "      <td>http://dbpedia.org/ontology/HistoricalAreaOfAu...</td>\n",
       "      <td>http://dbpedia.org/ontology/PopulatedPlace</td>\n",
       "      <td>False</td>\n",
       "      <td>common subclasses</td>\n",
       "    </tr>\n",
       "    <tr>\n",
       "      <th>312257</th>\n",
       "      <td>http://dbpedia.org/ontology/AdministrativeRegion</td>\n",
       "      <td>http://dbpedia.org/ontology/PopulatedPlace</td>\n",
       "      <td>False</td>\n",
       "      <td>common subclasses</td>\n",
       "    </tr>\n",
       "    <tr>\n",
       "      <th>312258</th>\n",
       "      <td>http://dbpedia.org/ontology/AcademicSubject</td>\n",
       "      <td>http://dbpedia.org/ontology/TopicalConcept</td>\n",
       "      <td>False</td>\n",
       "      <td>common subclasses</td>\n",
       "    </tr>\n",
       "  </tbody>\n",
       "</table>\n",
       "<p>778 rows × 4 columns</p>\n",
       "</div>"
      ],
      "text/plain": [
       "                                                       c1  \\\n",
       "1467             http://dbpedia.org/ontology/NaturalEvent   \n",
       "1525             http://dbpedia.org/ontology/NaturalEvent   \n",
       "5826               http://dbpedia.org/ontology/TimePeriod   \n",
       "5842               http://dbpedia.org/ontology/TimePeriod   \n",
       "11742     http://dbpedia.org/ontology/AnatomicalStructure   \n",
       "...                                                   ...   \n",
       "312254            http://dbpedia.org/ontology/MicroRegion   \n",
       "312255       http://dbpedia.org/ontology/HistoricalRegion   \n",
       "312256  http://dbpedia.org/ontology/HistoricalAreaOfAu...   \n",
       "312257   http://dbpedia.org/ontology/AdministrativeRegion   \n",
       "312258        http://dbpedia.org/ontology/AcademicSubject   \n",
       "\n",
       "                                                   c2 disjoint  \\\n",
       "1467           http://dbpedia.org/ontology/StormSurge    False   \n",
       "1525         http://dbpedia.org/ontology/SolarEclipse    False   \n",
       "5826    http://dbpedia.org/ontology/YearInSpaceflight    False   \n",
       "5842                 http://dbpedia.org/ontology/Year    False   \n",
       "11742         http://dbpedia.org/ontology/BloodVessel    False   \n",
       "...                                               ...      ...   \n",
       "312254     http://dbpedia.org/ontology/PopulatedPlace    False   \n",
       "312255     http://dbpedia.org/ontology/PopulatedPlace    False   \n",
       "312256     http://dbpedia.org/ontology/PopulatedPlace    False   \n",
       "312257     http://dbpedia.org/ontology/PopulatedPlace    False   \n",
       "312258     http://dbpedia.org/ontology/TopicalConcept    False   \n",
       "\n",
       "                   reason  \n",
       "1467    common subclasses  \n",
       "1525    common subclasses  \n",
       "5826    common subclasses  \n",
       "5842    common subclasses  \n",
       "11742   common subclasses  \n",
       "...                   ...  \n",
       "312254  common subclasses  \n",
       "312255  common subclasses  \n",
       "312256  common subclasses  \n",
       "312257  common subclasses  \n",
       "312258  common subclasses  \n",
       "\n",
       "[778 rows x 4 columns]"
      ]
     },
     "execution_count": 20,
     "metadata": {},
     "output_type": "execute_result"
    }
   ],
   "source": [
    "df[df[\"disjoint\"].notna() & (df[\"disjoint\"] == False)]"
   ]
  },
  {
   "cell_type": "code",
   "execution_count": 35,
   "metadata": {},
   "outputs": [
    {
     "name": "stdout",
     "output_type": "stream",
     "text": [
      "\\begin{tabular}{llll}\n",
      "\\toprule\n",
      "c1 & c2 & disjoint & reason \\\\\n",
      "\\midrule\n",
      "http://dbpedia.org/ontology/Device & http://dbpedia.org/ontology/Instrument & False & common subclasses \\\\\n",
      "http://dbpedia.org/ontology/OrganisationMember & http://dbpedia.org/ontology/SportsTeamMember & False & common subclasses \\\\\n",
      "http://dbpedia.org/ontology/Person & http://dbpedia.org/ontology/UnitOfWork & True & ontologically disjoint \\\\\n",
      "http://dbpedia.org/ontology/HistoricalPeriod & http://dbpedia.org/ontology/PrehistoricalPeriod & True & ontologically disjoint \\\\\n",
      "http://dbpedia.org/ontology/BowlingLeague & http://dbpedia.org/ontology/wgs84_pos:SpatialThing & True & subclass of ontologically disjoint \\\\\n",
      "http://dbpedia.org/ontology/AcademicConference & http://dbpedia.org/ontology/Person & True & subclass of ontologically disjoint \\\\\n",
      "\\bottomrule\n",
      "\\end{tabular}\n",
      "\n"
     ]
    }
   ],
   "source": [
    "print(df.groupby([\"reason\", \"disjoint\"]).sample(2).to_latex(index=False))"
   ]
  },
  {
   "cell_type": "code",
   "execution_count": 4,
   "metadata": {},
   "outputs": [
    {
     "data": {
      "text/plain": [
       "array([nan, 'subclass of ontologically disjoint', 'common subclasses',\n",
       "       'ontologically disjoint'], dtype=object)"
      ]
     },
     "execution_count": 4,
     "metadata": {},
     "output_type": "execute_result"
    }
   ],
   "source": [
    "df.reason.unique()"
   ]
  },
  {
   "cell_type": "code",
   "execution_count": 10,
   "metadata": {},
   "outputs": [
    {
     "name": "stdout",
     "output_type": "stream",
     "text": [
      "\\begin{tabular}{lll}\n",
      "\\toprule\n",
      " & c1 & c2 \\\\\n",
      "\\midrule\n",
      "311657 & http://dbpedia.org/ontology/Person & http://dbpedia.org/ontology/ProtohistoricalPeriod \\\\\n",
      "311687 & http://dbpedia.org/ontology/Person & http://dbpedia.org/ontology/UnitOfWork \\\\\n",
      "277609 & http://dbpedia.org/ontology/Agent & http://dbpedia.org/ontology/Place \\\\\n",
      "112115 & http://dbpedia.org/ontology/Fish & http://dbpedia.org/ontology/Mammal \\\\\n",
      "106842 & http://dbpedia.org/ontology/Event & http://dbpedia.org/ontology/Person \\\\\n",
      "\\bottomrule\n",
      "\\end{tabular}\n",
      "\n"
     ]
    }
   ],
   "source": [
    "print(df[df.reason == \"ontologically disjoint\"].sample(5).iloc[:, :2].to_latex())"
   ]
  }
 ],
 "metadata": {
  "kernelspec": {
   "display_name": "llmdisj",
   "language": "python",
   "name": "python3"
  },
  "language_info": {
   "codemirror_mode": {
    "name": "ipython",
    "version": 3
   },
   "file_extension": ".py",
   "mimetype": "text/x-python",
   "name": "python",
   "nbconvert_exporter": "python",
   "pygments_lexer": "ipython3",
   "version": "3.11.9"
  }
 },
 "nbformat": 4,
 "nbformat_minor": 2
}
