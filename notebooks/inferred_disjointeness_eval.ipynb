{
 "cells": [
  {
   "cell_type": "code",
   "execution_count": 1,
   "metadata": {},
   "outputs": [],
   "source": [
    "import pandas as pd"
   ]
  },
  {
   "cell_type": "code",
   "execution_count": 2,
   "metadata": {},
   "outputs": [],
   "source": [
    "df = pd.read_csv(\"../disjoined.csv\")"
   ]
  },
  {
   "cell_type": "code",
   "execution_count": 18,
   "metadata": {},
   "outputs": [
    {
     "data": {
      "text/plain": [
       "510600"
      ]
     },
     "execution_count": 18,
     "metadata": {},
     "output_type": "execute_result"
    }
   ],
   "source": [
    "df.disjoint.sum()"
   ]
  },
  {
   "cell_type": "code",
   "execution_count": 12,
   "metadata": {},
   "outputs": [
    {
     "name": "stdout",
     "output_type": "stream",
     "text": [
      "0.98 % of the classes are disjoint.\n"
     ]
    }
   ],
   "source": [
    "print(f\"{df.disjoint.sum() / df.shape[0]:.2f} % of the classes are disjoint.\")"
   ]
  },
  {
   "cell_type": "code",
   "execution_count": 19,
   "metadata": {},
   "outputs": [
    {
     "name": "stdout",
     "output_type": "stream",
     "text": [
      "\\begin{tabular}{ll}\n",
      "\\toprule\n",
      "c1 & c2 \\\\\n",
      "\\midrule\n",
      "http://dbpedia.org/ontology/GeneLocation & http://dbpedia.org/ontology/HumanGene \\\\\n",
      "http://dbpedia.org/ontology/VideogamesLeague & http://dbpedia.org/ontology/Website \\\\\n",
      "http://dbpedia.org/ontology/InformationAppliance & http://dbpedia.org/ontology/MobilePhone \\\\\n",
      "http://dbpedia.org/ontology/Engineer & http://dbpedia.org/ontology/Embryology \\\\\n",
      "http://dbpedia.org/ontology/Identifier & http://dbpedia.org/ontology/District \\\\\n",
      "\\bottomrule\n",
      "\\end{tabular}\n",
      "\n"
     ]
    }
   ],
   "source": [
    "# example of non disjoint\n",
    "print(df[~df.disjoint].sample(5).iloc[:, [0, 1]].to_latex(index=False))"
   ]
  },
  {
   "cell_type": "code",
   "execution_count": 22,
   "metadata": {},
   "outputs": [
    {
     "name": "stdout",
     "output_type": "stream",
     "text": [
      "\\begin{tabular}{ll}\n",
      "\\toprule\n",
      "c1 & c2 \\\\\n",
      "\\midrule\n",
      "http://dbpedia.org/ontology/Mosque & http://dbpedia.org/ontology/Museum \\\\\n",
      "http://dbpedia.org/ontology/MeanOfTransportation & http://dbpedia.org/ontology/Swimmer \\\\\n",
      "http://dbpedia.org/ontology/WikimediaTemplate & http://dbpedia.org/ontology/WomensTennisAssociationTournament \\\\\n",
      "http://dbpedia.org/ontology/Racecourse & http://dbpedia.org/ontology/Area \\\\\n",
      "http://dbpedia.org/ontology/PlayboyPlaymate & http://dbpedia.org/ontology/Camera \\\\\n",
      "\\bottomrule\n",
      "\\end{tabular}\n",
      "\n"
     ]
    }
   ],
   "source": [
    "# example of disjoint\n",
    "print(df[~df.disjoint].sample(5).iloc[:, [0, 1]].to_latex(index=False))"
   ]
  }
 ],
 "metadata": {
  "kernelspec": {
   "display_name": "llmdisj",
   "language": "python",
   "name": "python3"
  },
  "language_info": {
   "codemirror_mode": {
    "name": "ipython",
    "version": 3
   },
   "file_extension": ".py",
   "mimetype": "text/x-python",
   "name": "python",
   "nbconvert_exporter": "python",
   "pygments_lexer": "ipython3",
   "version": "3.11.9"
  }
 },
 "nbformat": 4,
 "nbformat_minor": 2
}
